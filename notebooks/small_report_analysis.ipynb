{
  "nbformat": 4,
  "nbformat_minor": 0,
  "metadata": {
    "colab": {
      "private_outputs": true,
      "provenance": [],
      "collapsed_sections": [],
      "authorship_tag": "ABX9TyPjO2peq0r4Az+5fAXb1drU",
      "include_colab_link": true
    },
    "kernelspec": {
      "name": "python3",
      "display_name": "Python 3"
    },
    "language_info": {
      "name": "python"
    }
  },
  "cells": [
    {
      "cell_type": "markdown",
      "metadata": {
        "id": "view-in-github",
        "colab_type": "text"
      },
      "source": [
        "<a href=\"https://colab.research.google.com/github/BondaiKa/data_engineer_pet_project_2/blob/master/notebooks/small_report_analysis.ipynb\" target=\"_parent\"><img src=\"https://colab.research.google.com/assets/colab-badge.svg\" alt=\"Open In Colab\"/></a>"
      ]
    },
    {
      "cell_type": "code",
      "source": [
        "import glob\n",
        "import os\n",
        "import pandas as pd\n",
        "import matplotlib"
      ],
      "metadata": {
        "id": "DkBsCcu6iifd"
      },
      "execution_count": null,
      "outputs": []
    },
    {
      "cell_type": "code",
      "source": [
        "path = '/content/part-00000-2e6cf9ff-9280-4830-bc49-f66355db9342-c000.csv'"
      ],
      "metadata": {
        "id": "IPrT4jsZsawH"
      },
      "execution_count": null,
      "outputs": []
    },
    {
      "cell_type": "code",
      "source": [
        "df = pd.read_csv(path)"
      ],
      "metadata": {
        "id": "SScdOSZM7J-B"
      },
      "execution_count": null,
      "outputs": []
    },
    {
      "cell_type": "code",
      "source": [
        "df.describe()"
      ],
      "metadata": {
        "id": "y20mLabbA2RO"
      },
      "execution_count": null,
      "outputs": []
    },
    {
      "cell_type": "code",
      "source": [
        "# df.groupby([\"stars\"])['count'].mean()\n",
        "new_df = df[(df[\"count\"] > 5213) & (df[\"count\"] < 46920)].groupby(['stars']).mean('count')\n",
        "new_df"
      ],
      "metadata": {
        "id": "ouVi1sIt7NRU"
      },
      "execution_count": null,
      "outputs": []
    },
    {
      "cell_type": "code",
      "source": [
        "new_df.plot.bar(rot=0)"
      ],
      "metadata": {
        "id": "imuR8uIH82zm"
      },
      "execution_count": null,
      "outputs": []
    }
  ]
}